{
 "cells": [
  {
   "cell_type": "code",
   "execution_count": 13,
   "id": "7b480a4d-4015-488c-b2da-d59d054f27bb",
   "metadata": {},
   "outputs": [],
   "source": [
    "import pandas as pd\n",
    "from langchain_core.prompts import PromptTemplate\n",
    "from langchain_core.output_parsers import JsonOutputParser\n",
    "from langchain_core.runnables import RunnableLambda, RunnableParallel\n",
    "from dotenv import load_dotenv, find_dotenv\n",
    "from langchain_together import ChatTogether\n",
    "from pydantic import BaseModel, Field\n",
    "import smtplib\n",
    "from email.message import EmailMessage\n",
    "import ssl\n",
    "from twilio.rest import Client\n",
    "from twilio.twiml.voice_response import VoiceResponse\n",
    "from decouple import config\n",
    "from typing import Tuple\n",
    "from numpy import array"
   ]
  },
  {
   "cell_type": "code",
   "execution_count": 4,
   "id": "03616aa0-7674-4f1b-b387-a757dfdf79f5",
   "metadata": {},
   "outputs": [
    {
     "data": {
      "text/plain": [
       "True"
      ]
     },
     "execution_count": 4,
     "metadata": {},
     "output_type": "execute_result"
    }
   ],
   "source": [
    "load_dotenv(find_dotenv())"
   ]
  },
  {
   "cell_type": "code",
   "execution_count": 5,
   "id": "f7d161df-a747-451b-bc77-b860623738f4",
   "metadata": {},
   "outputs": [],
   "source": [
    "def make_phone_call(recipient_phone, call_script, twilio_number, account_sid, auth_token):\n",
    "    \"\"\"\n",
    "    Makes a phone call to the recipient and speaks the script using Twilio.\n",
    "    \n",
    "    Parameters:\n",
    "        recipent_phone (str): Recipient's phone number in E.164 format (e.g., \"+1234567890\").\n",
    "        call_script (str): The text to be spoken during the call.\n",
    "        twilio_number (str): Your Twilio phone number (E.164 format).\n",
    "        account_sid (str): Twilio account SID.\n",
    "        auth_token (str): Twilio authentication token.\n",
    "    \"\"\"\n",
    "    # Initialize Twilio client\n",
    "    client = Client(account_sid, auth_token)\n",
    "    \n",
    "    # Create TwiML (Telephony Markup Language) to define the call behavior\n",
    "    twiml_response = VoiceResponse()\n",
    "    twiml_response.say(call_script, voice='alice')  # 'alice' is a natural-sounding voice\n",
    "    \n",
    "    try:\n",
    "        # Initiate the call\n",
    "        call = client.calls.create(\n",
    "            twiml=twiml_response.to_xml(),\n",
    "            from_=twilio_number,\n",
    "            to=recipient_phone\n",
    "        )\n",
    "        print(f\"Call initiated! Call SID: {call.sid}\")\n",
    "    except Exception as e:\n",
    "        print(f\"Failed to make call: {e}\")"
   ]
  },
  {
   "cell_type": "code",
   "execution_count": 8,
   "id": "965d7433-7cb2-4952-8930-53dc29ccc479",
   "metadata": {},
   "outputs": [],
   "source": [
    "ACCOUNT_SID = config(\"ACCOUNT_SID\")\n",
    "AUTH_TOKEN = config(\"AUTH_TOKEN\")\n",
    "TWILIO_NUMBER = config(\"TWILIO_NUMBER\")\n",
    "RECIPIENT_NUMBER = \"+2348101116037\"\n",
    "EMAIL_PASSWORD = config(\"EMAIL_APP_PASSWORD\")"
   ]
  },
  {
   "cell_type": "code",
   "execution_count": 194,
   "id": "d8a3c316-14bc-40e9-b3af-250366ff66ce",
   "metadata": {},
   "outputs": [
    {
     "name": "stdout",
     "output_type": "stream",
     "text": [
      "Call initiated! Call SID: CA88620e6ab02cf59f9af36e95dcb81e0b\n"
     ]
    }
   ],
   "source": [
    "# Call the function\n",
    "make_phone_call(\n",
    "    recipient_phone=RECIPIENT_NUMBER,\n",
    "    call_script=\"Hello! This is an automated call. Thank you for testing our service.\",\n",
    "    twilio_number=TWILIO_NUMBER,\n",
    "    account_sid=ACCOUNT_SID,\n",
    "    auth_token=AUTH_TOKEN\n",
    ")"
   ]
  },
  {
   "cell_type": "code",
   "execution_count": 9,
   "id": "8e111e50-ceda-4e2a-be32-b4afd2880d72",
   "metadata": {},
   "outputs": [],
   "source": [
    "def send_email(subject, recipient, body, sender_email, sender_password):\n",
    "    \"\"\"\n",
    "    Sends an email using the provided details and SMTP server (e.g., Gmail).\n",
    "    \n",
    "    Parameters:\n",
    "    - subject (str): Email subject\n",
    "    - recipient (str): Recipient email address\n",
    "    - body (str): Email body content\n",
    "    - sender_email (str): Sender's email address (requires SMTP access)\n",
    "    - sender_password (str): Sender's email password or app-specific password\n",
    "    \"\"\"\n",
    "    # Create the email message\n",
    "    msg = EmailMessage()\n",
    "    msg.set_content(body)\n",
    "    msg['Subject'] = subject\n",
    "    msg['From'] = sender_email\n",
    "    msg['To'] = recipient\n",
    "\n",
    "    # Set up SSL context and SMTP server\n",
    "    context = ssl.create_default_context()\n",
    "    \n",
    "    try:\n",
    "        with smtplib.SMTP_SSL('smtp.gmail.com', 465, context=context) as server:\n",
    "            server.login(sender_email, sender_password)\n",
    "            server.send_message(msg)\n",
    "        print(\"Email sent successfully!\")\n",
    "    except Exception as e:\n",
    "        print(f\"Failed to send email: {e}\")"
   ]
  },
  {
   "cell_type": "code",
   "execution_count": 202,
   "id": "51f3f3ad-3d06-4230-960d-996add5e508d",
   "metadata": {},
   "outputs": [
    {
     "name": "stdout",
     "output_type": "stream",
     "text": [
      "Email sent successfully!\n"
     ]
    }
   ],
   "source": [
    "send_email(\n",
    "    subject=\"Hello from Python!\",\n",
    "    recipient=\"paulobiahu@gmail.com\",\n",
    "    body=\"This is a test email sent using Python.\",\n",
    "    sender_email=\"paulobiahu@gmail.com\",\n",
    "    sender_password=EMAIL_PASSWORD\n",
    ")"
   ]
  },
  {
   "cell_type": "code",
   "execution_count": 70,
   "id": "b1b9c7db-376c-4075-9934-d77dc235780d",
   "metadata": {},
   "outputs": [],
   "source": [
    "def read_file(file_path):\n",
    "    \"\"\"\n",
    "    Reads a JSON, Excel, CSV, Parquet, Feather, or TSV file into a Pandas DataFrame.\n",
    "    \n",
    "    Parameters:\n",
    "        file_path (str): Path to the file.\n",
    "    \n",
    "    Returns:\n",
    "        pd.DataFrame: DataFrame containing the file data.\n",
    "    \"\"\"\n",
    "    try:\n",
    "        if file_path.endswith(\".csv\"):\n",
    "            return pd.read_csv(file_path)\n",
    "        elif file_path.endswith(\".json\"):\n",
    "            return pd.read_json(file_path)\n",
    "        elif file_path.endswith(\".xlsx\") or file_path.endswith(\".xls\"):\n",
    "            return pd.read_excel(file_path)\n",
    "        elif file_path.endswith(\".parquet\"):\n",
    "            return pd.read_parquet(file_path)\n",
    "        elif file_path.endswith(\".feather\"):\n",
    "            return pd.read_feather(file_path)\n",
    "        elif file_path.endswith(\".tsv\"):\n",
    "            return pd.read_csv(file_path, sep=\"\\t\")\n",
    "        else:\n",
    "            raise ValueError(\"Unsupported file format. Please use JSON, Excel, CSV, Parquet, Feather, or TSV.\")\n",
    "    except Exception as e:\n",
    "        print(f\"Error reading file: {e}\")\n",
    "        return None\n"
   ]
  },
  {
   "cell_type": "code",
   "execution_count": 74,
   "id": "8d75045c-7904-4766-9943-d9917c0c0116",
   "metadata": {},
   "outputs": [],
   "source": [
    "def get_company_info(file_path):\n",
    "    \"\"\"\n",
    "    Extracts company-related information from the given file and formats it into a list of dictionaries.\n",
    "    \n",
    "    Parameters:\n",
    "        file_path (str): Path to the file.\n",
    "    \n",
    "    Returns:\n",
    "        list: List of dictionaries with company data formatted for LLM input.\n",
    "    \"\"\"\n",
    "    df = read_file(file_path)\n",
    "    if df is None:\n",
    "        return None\n",
    "    \n",
    "    required_columns = [\n",
    "        'company_name', 'industry', 'engagement_level', 'objection', \n",
    "        'insurance_company_name', 'sender_name', 'recipient_email'\n",
    "    ]\n",
    "    \n",
    "    missing_cols = [col for col in required_columns if col not in df.columns]\n",
    "    \n",
    "    if missing_cols:\n",
    "        print(f\"Error: Missing columns {missing_cols}.\")\n",
    "        print(\"Ensure all required columns are present in the file.\")\n",
    "        return None\n",
    "\n",
    "    df['recipient_phone'] = None  \n",
    "\n",
    "    # Convert data into a list of dictionaries\n",
    "    company_data = df.to_dict(orient=\"records\")\n",
    "    \n",
    "    return company_data\n"
   ]
  },
  {
   "cell_type": "code",
   "execution_count": 115,
   "id": "e796e78f-c674-4e8a-8164-7d3affac73ab",
   "metadata": {},
   "outputs": [],
   "source": [
    "companies_values = get_company_info('insurance_outreach_varied.csv')"
   ]
  },
  {
   "cell_type": "code",
   "execution_count": 116,
   "id": "d496dba8-4af6-4230-a359-3392bf01ba5d",
   "metadata": {},
   "outputs": [
    {
     "data": {
      "text/plain": [
       "[{'company_name': 'Moniepoint',\n",
       "  'industry': 'Finance',\n",
       "  'engagement_level': 'high',\n",
       "  'objection': 'Security concerns, We’re already insured, Trust with document issues',\n",
       "  'insurance_company_name': 'DigitalInsure',\n",
       "  'sender_name': 'Paul Obiahu',\n",
       "  'recipient_email': 'paulobiahu3@gmail.com',\n",
       "  'recipient_phone': None},\n",
       " {'company_name': 'Andela',\n",
       "  'industry': 'Tech',\n",
       "  'engagement_level': 'medium',\n",
       "  'objection': 'Cost concerns, We build in-house solutions, Lack of customization',\n",
       "  'insurance_company_name': 'TechShield',\n",
       "  'sender_name': 'Paul Obiahu',\n",
       "  'recipient_email': 'techsphere4i@gmail.com',\n",
       "  'recipient_phone': None},\n",
       " {'company_name': 'Jumia',\n",
       "  'industry': 'E-commerce',\n",
       "  'engagement_level': 'low',\n",
       "  'objection': 'Budget constraints, Not a priority, Unclear ROI',\n",
       "  'insurance_company_name': 'EcomSure',\n",
       "  'sender_name': 'Paul Obiahu',\n",
       "  'recipient_email': 'paulobiahu2@gmail.com',\n",
       "  'recipient_phone': None},\n",
       " {'company_name': 'MTN',\n",
       "  'industry': 'Telecom',\n",
       "  'engagement_level': 'high',\n",
       "  'objection': 'Regulatory issues, Data privacy concerns, Already have a provider',\n",
       "  'insurance_company_name': 'TelcoProtect',\n",
       "  'sender_name': 'Paul Obiahu',\n",
       "  'recipient_email': 'paulobiahu@gmail.com',\n",
       "  'recipient_phone': None},\n",
       " {'company_name': 'Dangote',\n",
       "  'industry': 'Manufacturing',\n",
       "  'engagement_level': 'medium',\n",
       "  'objection': 'Long decision cycles, Compliance concerns, Not a current focus',\n",
       "  'insurance_company_name': 'ManuSafe',\n",
       "  'sender_name': 'Paul Obiahu',\n",
       "  'recipient_email': 'ebubeobiahu@gmail.com',\n",
       "  'recipient_phone': None}]"
      ]
     },
     "execution_count": 116,
     "metadata": {},
     "output_type": "execute_result"
    }
   ],
   "source": [
    "companies_values"
   ]
  },
  {
   "cell_type": "code",
   "execution_count": 77,
   "id": "7e7061a6-f7be-48ab-a44c-b5a0b5276e1f",
   "metadata": {},
   "outputs": [],
   "source": [
    "llm = ChatTogether(\n",
    "    model=\"meta-llama/Llama-3-70b-chat-hf\",\n",
    "    temperature=0,\n",
    "    max_tokens=None,\n",
    "    timeout=None,\n",
    "    max_retries=2,\n",
    ")"
   ]
  },
  {
   "cell_type": "code",
   "execution_count": 78,
   "id": "07407535-4f50-4650-81fc-a2aaaf662676",
   "metadata": {},
   "outputs": [],
   "source": [
    "class EmailAdvise(BaseModel):\n",
    "    recipient_email: str = Field(description=\"The **email address of the recipient** (as provided in the input).\")\n",
    "    recipient_phone: str = Field(description=\"The **phone number of the recipient** (as provided in the input)\")\n",
    "    subject: str = Field(description=\"A compelling **email subject line** that grabs attention and encourages the recipient to open the email. \")\n",
    "    email: str = Field(description=\"A cold email personalized based on the industry, engagement level, and objections.\")\n",
    "    call_script: str = Field(description=\"A structured cold call script for sales representatives to use.\")\n",
    "    advise: str = Field(description=\"A strategy to further engage the client based on their industry and previous response.\")"
   ]
  },
  {
   "cell_type": "code",
   "execution_count": 79,
   "id": "37d78a4c-ee1a-4019-86af-633307d0f207",
   "metadata": {},
   "outputs": [],
   "source": [
    "parser = JsonOutputParser(pydantic_object=EmailAdvise)"
   ]
  },
  {
   "cell_type": "code",
   "execution_count": 80,
   "id": "b92964c8-4eab-4690-a84a-4953827bc1cf",
   "metadata": {},
   "outputs": [],
   "source": [
    "prompt = \"\"\"\n",
    "You are an AI-powered Cold Outreach Assistant for an insurance company specializing in personalized marketing. Your goal is to craft **highly engaging cold emails** and **concise, high-converting cold call scripts** tailored to prospects' industries, prior engagement levels, and potential objections. Additionally, you will provide strategic follow-up advice to further engage the client.\n",
    "\n",
    "---\n",
    "\n",
    "### **Task**  \n",
    "Given the following details, generate a JSON response containing:  \n",
    "\n",
    "1. `recipient_email`: The **email address of the recipient** (as provided in the input).  \n",
    "2. `recipient_phone`: The **phone number of the recipient** (as provided in the input).  \n",
    "3. `subject`: A compelling **email subject line** that grabs attention and encourages the recipient to open the email.  \n",
    "4. `email`: A **personalized cold email** that follows this structure:  \n",
    "   - **[Opening sentence]**: Connect with their industry, a recent trend, or challenge.  \n",
    "   - **[Value proposition]**: How your insurance solution helps companies in their industry.  \n",
    "   - **[Objection handling]**: Address a common concern relevant to their industry.  \n",
    "   - **[CTA]**: Suggest a **quick call, demo, or free consultation**.  \n",
    "\n",
    "5. `call_script`: A **short but effective cold call script** (under 100 words) that:  \n",
    "   - Starts with a **brief introduction**.  \n",
    "   - Highlights a **pain point** relevant to their industry.  \n",
    "   - Presents the **key benefit of the insurance** in a single sentence.  \n",
    "   - Handles a **likely objection** in one sentence.  \n",
    "   - Ends with a **clear CTA** (e.g., booking a call, requesting more info).  \n",
    "\n",
    "6. `advise`: A **follow-up strategy** to keep the client engaged based on their industry and potential objection.  \n",
    "\n",
    "---\n",
    "\n",
    "### **Input**  \n",
    "- **Recipient Email**: {recipient_email}  \n",
    "- **Recipient Phone**: {recipient_phone}  \n",
    "- **Company Name**: {company_name}  \n",
    "- **Industry**: {industry}  \n",
    "- **Engagement Level**: {engagement_level}  \n",
    "- **Potential Objection**: {objection}  \n",
    "- **Insurance Company Name**: {insurance_company_name}  \n",
    "- **Sender Name**: {sender_name}  \n",
    "\n",
    "---\n",
    "\n",
    "###Note: The email is sent to {company_name} so the greeting at the beginning of the email should be attributed to {company_name}\n",
    "\n",
    "---\n",
    "\n",
    "### **Output Format (Strict JSON)**  \n",
    "{{\n",
    "  \"recipient_email\": \"{recipient_email}\",\n",
    "  \"recipient_phone\": \"{recipient_phone}\",\n",
    "  \"subject\": \"[Compelling subject line]\",\n",
    "  \"email\": \"[Generated cold email]\",\n",
    "  \"call_script\": \"[Short, high-impact cold call script]\",\n",
    "  \"advise\": \"[Follow-up strategy and recommendations]\"\n",
    "}}\n",
    "\"\"\"  \n"
   ]
  },
  {
   "cell_type": "code",
   "execution_count": 81,
   "id": "87688dcd-c4ca-4894-a28b-a728f8e6a784",
   "metadata": {},
   "outputs": [],
   "source": [
    "prompt_template = PromptTemplate(\n",
    "    template=prompt,\n",
    "    input_variables=[\"company_name\", \"industry\", \"engagement_level\", \"objection\"],\n",
    "    partial_variables={\"format_instructions\": parser.get_format_instructions()},\n",
    ")"
   ]
  },
  {
   "cell_type": "code",
   "execution_count": 82,
   "id": "e0f105b2-5a32-4d25-87c5-73f8b25435a7",
   "metadata": {},
   "outputs": [],
   "source": [
    "first_chain = prompt_template | llm | parser"
   ]
  },
  {
   "cell_type": "code",
   "execution_count": 85,
   "id": "7baf32c5-0401-4058-b21c-8f5f338d6398",
   "metadata": {},
   "outputs": [],
   "source": [
    "batch_response = first_chain.batch(companies_values)"
   ]
  },
  {
   "cell_type": "code",
   "execution_count": 90,
   "id": "ea9bdbf0-eb98-4311-9b1d-7f52f4f2ca1b",
   "metadata": {},
   "outputs": [
    {
     "data": {
      "text/plain": [
       "str"
      ]
     },
     "execution_count": 90,
     "metadata": {},
     "output_type": "execute_result"
    }
   ],
   "source": [
    "type(batch_response[0]['recipient_phone'])"
   ]
  },
  {
   "cell_type": "code",
   "execution_count": 233,
   "id": "68d91187-9157-4945-89be-3bada6e128a7",
   "metadata": {},
   "outputs": [],
   "source": [
    "response = first_chain.invoke({\n",
    "    \"company_name\": \"Moniepoint\",\n",
    "    \"industry\": \"Finance\",\n",
    "    \"engagement_level\": \"low\",\n",
    "    \"objection\": \"Security, We’re already insured, Trust with document issues\",\n",
    "    \"insurance_company_name\": \"DigitalInsure\",\n",
    "    \"sender_name\": \"Paul Obiahu\",\n",
    "    \"recipient_email\": \"paulobiahu2@gmail.com\",\n",
    "    \"recipient_phone\": \"+2348101116037\"\n",
    "})"
   ]
  },
  {
   "cell_type": "code",
   "execution_count": 234,
   "id": "2313b2e6-82cc-4994-8130-2a0e8301d323",
   "metadata": {},
   "outputs": [
    {
     "name": "stdout",
     "output_type": "stream",
     "text": [
      "{'recipient_email': 'paulobiahu2@gmail.com', 'recipient_phone': '+2348101116037', 'subject': \"Protecting Moniepoint's Financial Future with DigitalInsure\", 'email': \"Hi Moniepoint Team,\\n\\nAs a leading player in the finance industry, you understand the importance of mitigating risks and ensuring business continuity. With the increasing threat of cyber attacks and data breaches, it's crucial to have a robust insurance plan in place.\\n\\nAt DigitalInsure, we specialize in providing tailored insurance solutions to finance companies like yours. Our policies are designed to protect your business from unforeseen events, ensuring you can focus on growth and innovation.\\n\\nI understand that security concerns may be top of mind, especially when it comes to document management. Rest assured that our insurance solutions prioritize data protection and confidentiality, giving you peace of mind.\\n\\nWould you be open to a quick call to discuss how DigitalInsure can help safeguard Moniepoint's financial future? I'd be happy to schedule a demo or free consultation at your convenience.\\n\\nBest regards,\\nPaul Obiahu\", 'call_script': \"Hi, this is Paul Obiahu from DigitalInsure. I'm calling because I understand the finance industry is prone to cyber attacks, and I'd like to discuss how our insurance solutions can help protect Moniepoint from these risks. Our policies prioritize data security and confidentiality, addressing concerns around document management. Are you currently satisfied with your insurance coverage? Would you be open to exploring alternative options that better suit your needs? Let's schedule a quick call to discuss further.\", 'advise': \"Given Moniepoint's low engagement level, it's essential to prioritize building trust and establishing credibility. Consider sending a follow-up email with a case study or success story from a similar finance company that has benefited from DigitalInsure's insurance solutions. This will help address potential objections around security and trust. Additionally, offer a free consultation or demo to provide value upfront and showcase the expertise of DigitalInsure.\"}\n"
     ]
    }
   ],
   "source": [
    "print(response)"
   ]
  },
  {
   "cell_type": "code",
   "execution_count": 235,
   "id": "6d2a13c7-e1a6-421d-b928-5a30018b035e",
   "metadata": {},
   "outputs": [
    {
     "name": "stdout",
     "output_type": "stream",
     "text": [
      "+2348101116037\n"
     ]
    }
   ],
   "source": [
    "print(response['recipient_phone'])"
   ]
  },
  {
   "cell_type": "code",
   "execution_count": 236,
   "id": "3ef66266-bbfc-44f3-87e5-6a3c07fda347",
   "metadata": {},
   "outputs": [
    {
     "name": "stdout",
     "output_type": "stream",
     "text": [
      "paulobiahu2@gmail.com\n"
     ]
    }
   ],
   "source": [
    "print(response['recipient_email'])"
   ]
  },
  {
   "cell_type": "code",
   "execution_count": 237,
   "id": "7bb24261-b157-4dbb-b849-7861f22408b8",
   "metadata": {},
   "outputs": [
    {
     "name": "stdout",
     "output_type": "stream",
     "text": [
      "Protecting Moniepoint's Financial Future with DigitalInsure\n"
     ]
    }
   ],
   "source": [
    "print(response['subject'])"
   ]
  },
  {
   "cell_type": "code",
   "execution_count": 238,
   "id": "16c288c4-3c1a-4c8f-9cc2-fdab4a804b0e",
   "metadata": {},
   "outputs": [
    {
     "name": "stdout",
     "output_type": "stream",
     "text": [
      "Hi, this is Paul Obiahu from DigitalInsure. I'm calling because I understand the finance industry is prone to cyber attacks, and I'd like to discuss how our insurance solutions can help protect Moniepoint from these risks. Our policies prioritize data security and confidentiality, addressing concerns around document management. Are you currently satisfied with your insurance coverage? Would you be open to exploring alternative options that better suit your needs? Let's schedule a quick call to discuss further.\n"
     ]
    }
   ],
   "source": [
    "print(response['call_script'])"
   ]
  },
  {
   "cell_type": "code",
   "execution_count": 239,
   "id": "693cfb1a-8138-4b6e-a3b8-77bdfb827f4d",
   "metadata": {},
   "outputs": [
    {
     "name": "stdout",
     "output_type": "stream",
     "text": [
      "Given Moniepoint's low engagement level, it's essential to prioritize building trust and establishing credibility. Consider sending a follow-up email with a case study or success story from a similar finance company that has benefited from DigitalInsure's insurance solutions. This will help address potential objections around security and trust. Additionally, offer a free consultation or demo to provide value upfront and showcase the expertise of DigitalInsure.\n"
     ]
    }
   ],
   "source": [
    "print(response['advise'])"
   ]
  },
  {
   "cell_type": "code",
   "execution_count": 240,
   "id": "e76bfff3-04cb-4ed8-9016-6fe5404c84bc",
   "metadata": {},
   "outputs": [
    {
     "name": "stdout",
     "output_type": "stream",
     "text": [
      "Hi Moniepoint Team,\n",
      "\n",
      "As a leading player in the finance industry, you understand the importance of mitigating risks and ensuring business continuity. With the increasing threat of cyber attacks and data breaches, it's crucial to have a robust insurance plan in place.\n",
      "\n",
      "At DigitalInsure, we specialize in providing tailored insurance solutions to finance companies like yours. Our policies are designed to protect your business from unforeseen events, ensuring you can focus on growth and innovation.\n",
      "\n",
      "I understand that security concerns may be top of mind, especially when it comes to document management. Rest assured that our insurance solutions prioritize data protection and confidentiality, giving you peace of mind.\n",
      "\n",
      "Would you be open to a quick call to discuss how DigitalInsure can help safeguard Moniepoint's financial future? I'd be happy to schedule a demo or free consultation at your convenience.\n",
      "\n",
      "Best regards,\n",
      "Paul Obiahu\n"
     ]
    }
   ],
   "source": [
    "print(response['email'])"
   ]
  },
  {
   "cell_type": "code",
   "execution_count": 135,
   "id": "c778743e-bb83-44c8-8d74-fab1ccf9ed0c",
   "metadata": {},
   "outputs": [],
   "source": [
    "async def send_cold_email(generated_inputs):\n",
    "    try:\n",
    "        await send_email(\n",
    "            subject=generated_inputs['subject'],\n",
    "            recipient=generated_inputs['recipient_email'],\n",
    "            body=generated_inputs['email'],\n",
    "            sender_email=\"gammainsure@gmail.com\",\n",
    "            sender_password=EMAIL_PASSWORD\n",
    "        )\n",
    "        return \"Success\"\n",
    "    except Exception as e:\n",
    "        return \"Failure\""
   ]
  },
  {
   "cell_type": "code",
   "execution_count": 136,
   "id": "738ea5ad-c11d-4ce8-8034-4996ccf4eaad",
   "metadata": {},
   "outputs": [],
   "source": [
    "async def send_cold_call(generated_inputs):\n",
    "    if generated_inputs['recipient_phone'] == 'None':\n",
    "        print(\"No call for multiple companies\")\n",
    "        return \"Success\"\n",
    "\n",
    "    try:\n",
    "        await make_phone_call(\n",
    "            recipient_phone=generated_inputs['recipient_phone'],\n",
    "            call_script=generated_inputs['call_script'],\n",
    "            twilio_number=TWILIO_NUMBER,\n",
    "            account_sid=ACCOUNT_SID,\n",
    "            auth_token=AUTH_TOKEN\n",
    "        )\n",
    "        return \"Success\"\n",
    "    except Exception as e:\n",
    "        return \"Failure\""
   ]
  },
  {
   "cell_type": "code",
   "execution_count": 127,
   "id": "446ddb80-6f95-45a8-952e-5608128fe5d4",
   "metadata": {},
   "outputs": [],
   "source": [
    "def get_advise(generated_inputs):\n",
    "    return generated_inputs['advise']"
   ]
  },
  {
   "cell_type": "code",
   "execution_count": 128,
   "id": "0100919a-850b-46b6-94a5-0f99d48abb59",
   "metadata": {},
   "outputs": [],
   "source": [
    "cold_email_runnable = RunnableLambda(send_cold_email)\n",
    "cold_call_runnable = RunnableLambda(send_cold_call)\n",
    "get_advise_runnable = RunnableLambda(get_advise)"
   ]
  },
  {
   "cell_type": "code",
   "execution_count": 129,
   "id": "d9d84473-233a-4255-9a1f-9ef7145076f8",
   "metadata": {},
   "outputs": [],
   "source": [
    "email_and_call_chain = RunnableParallel(\n",
    "    email_status=cold_email_runnable,  \n",
    "    call_status=cold_call_runnable,  \n",
    "    advise_status=get_advise_runnable  \n",
    ")\n",
    "\n",
    "full_chain = first_chain | email_and_call_chain"
   ]
  },
  {
   "cell_type": "code",
   "execution_count": 111,
   "id": "d2a0be24-087a-4be2-ac47-5d39bd5d6aec",
   "metadata": {},
   "outputs": [
    {
     "name": "stdout",
     "output_type": "stream",
     "text": [
      "Call initiated! Call SID: CA9776da6a82ff561734302b7cdd7e6136\n",
      "Email sent successfully!\n"
     ]
    }
   ],
   "source": [
    "response = full_chain.invoke({\n",
    "    \"company_name\": \"Moniepoint\",\n",
    "    \"industry\": \"Finance\",\n",
    "    \"engagement_level\": \"high\",\n",
    "    \"objection\": \"Security, We’re already insured, Trust with document issues\",\n",
    "    \"insurance_company_name\": \"DigitalInsure\",\n",
    "    \"sender_name\": \"Paul Obiahu\",\n",
    "    \"recipient_email\": \"paulobiahu3@gmail.com\",\n",
    "    \"recipient_phone\": \"+2348101116037\"\n",
    "})"
   ]
  },
  {
   "cell_type": "code",
   "execution_count": 112,
   "id": "ed521dd3-6450-4a4b-bc8e-3e2dc63c74c4",
   "metadata": {},
   "outputs": [
    {
     "data": {
      "text/plain": [
       "{'email_status': 'Success',\n",
       " 'call_status': 'Success',\n",
       " 'advise_status': \"Given Moniepoint's high engagement level, I recommend a follow-up email or call within 3-5 days to reiterate the value proposition and address any potential concerns. Since security is a top concern, consider sharing a case study or testimonial from a similar finance company that has benefited from DigitalInsure's insurance solutions. This will help build trust and credibility, increasing the likelihood of conversion.\"}"
      ]
     },
     "execution_count": 112,
     "metadata": {},
     "output_type": "execute_result"
    }
   ],
   "source": [
    "response"
   ]
  },
  {
   "cell_type": "code",
   "execution_count": 137,
   "id": "4bc953f7-b8b7-4dba-831c-6cc55a2acbf9",
   "metadata": {},
   "outputs": [
    {
     "name": "stdout",
     "output_type": "stream",
     "text": [
      "No call for multiple companies\n",
      "No call for multiple companies\n",
      "No call for multiple companies\n",
      "No call for multiple companies\n",
      "No call for multiple companies\n",
      "Email sent successfully!\n",
      "Email sent successfully!\n",
      "Email sent successfully!\n",
      "Email sent successfully!\n",
      "Email sent successfully!\n"
     ]
    }
   ],
   "source": [
    "batch_response = await full_chain.abatch(companies_values)"
   ]
  },
  {
   "cell_type": "code",
   "execution_count": 138,
   "id": "ac29a658-21a0-44ec-912c-da8b77f08b1f",
   "metadata": {},
   "outputs": [
    {
     "data": {
      "text/plain": [
       "[{'email_status': 'Success',\n",
       "  'call_status': 'Success',\n",
       "  'advise_status': \"Given Moniepoint's high engagement level, I recommend a follow-up email or call within 3-5 days to discuss their current insurance setup and how DigitalInsure can provide more comprehensive coverage. It's essential to address their security concerns and trust issues with document management. Consider sharing a case study or success story of a similar finance company that has benefited from DigitalInsure's insurance solutions.\"},\n",
       " {'email_status': 'Success',\n",
       "  'call_status': 'Success',\n",
       "  'advise_status': \"For Andela, I recommend a follow-up email highlighting a success story from a similar tech company that has benefited from TechShield's insurance solutions. This will help build credibility and trust. Additionally, consider sending a personalized video message or a brief case study that addresses their specific pain points and concerns. This will help keep the conversation going and increase the chances of booking a call or demo.\"},\n",
       " {'email_status': 'Success',\n",
       "  'call_status': 'Success',\n",
       "  'advise_status': \"For a low-engagement prospect like Jumia, it's essential to focus on building trust and establishing a connection. Consider sending a follow-up email with a case study or success story of a similar e-commerce company that has benefited from EcomSure's insurance solutions. This can help address potential objections and demonstrate the value of your insurance offerings. Additionally, a personalized phone call or LinkedIn message can help re-engage the prospect and encourage them to take the next step.\"},\n",
       " {'email_status': 'Success',\n",
       "  'call_status': 'Success',\n",
       "  'advise_status': \"Given MTN's high engagement level, I recommend a follow-up email or phone call within 3-5 days to discuss the complimentary risk assessment and answer any questions they may have. It's essential to address their potential objections, such as regulatory issues and data privacy concerns, by highlighting TelcoProtect's expertise in the telecom industry and the benefits of our tailored insurance solutions. Additionally, consider sending a case study or success story of a similar telecom company that has benefited from our services to further build credibility and trust.\"},\n",
       " {'email_status': 'Success',\n",
       "  'call_status': 'Success',\n",
       "  'advise_status': \"Given Dangote's medium engagement level, I recommend a follow-up email in 7-10 days to share a relevant case study or industry report highlighting the benefits of risk management in manufacturing. This will help keep the conversation going and demonstrate ManuSafe's expertise. Additionally, consider sending a personalized LinkedIn message to reiterate the value proposition and encourage a response.\"}]"
      ]
     },
     "execution_count": 138,
     "metadata": {},
     "output_type": "execute_result"
    }
   ],
   "source": [
    "batch_response"
   ]
  },
  {
   "cell_type": "code",
   "execution_count": 132,
   "id": "3cd31918-5941-4373-b659-3031b58aeb13",
   "metadata": {},
   "outputs": [
    {
     "data": {
      "text/plain": [
       "<coroutine object RunnableSequence.abatch at 0x7c5bc11a2700>"
      ]
     },
     "execution_count": 132,
     "metadata": {},
     "output_type": "execute_result"
    }
   ],
   "source": []
  },
  {
   "cell_type": "code",
   "execution_count": null,
   "id": "fb8d398f-b84a-4b80-bdc5-3a66fc00678f",
   "metadata": {},
   "outputs": [],
   "source": []
  }
 ],
 "metadata": {
  "kernelspec": {
   "display_name": "Python 3 (ipykernel)",
   "language": "python",
   "name": "python3"
  },
  "language_info": {
   "codemirror_mode": {
    "name": "ipython",
    "version": 3
   },
   "file_extension": ".py",
   "mimetype": "text/x-python",
   "name": "python",
   "nbconvert_exporter": "python",
   "pygments_lexer": "ipython3",
   "version": "3.12.3"
  }
 },
 "nbformat": 4,
 "nbformat_minor": 5
}
